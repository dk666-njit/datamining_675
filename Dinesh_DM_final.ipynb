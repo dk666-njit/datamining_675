{
  "cells": [
    {
      "cell_type": "code",
      "execution_count": 16,
      "id": "6719ee08-862f-4190-9284-c30b869da24f",
      "metadata": {
        "id": "6719ee08-862f-4190-9284-c30b869da24f"
      },
      "outputs": [],
      "source": [
        "import pandas as pd\n",
        "import numpy as np\n",
        "import matplotlib.pyplot as plt\n",
        "from imblearn.over_sampling import SMOTE\n",
        "import seaborn as sns\n",
        "from sklearn.model_selection import KFold\n",
        "from sklearn.ensemble import RandomForestClassifier\n",
        "from sklearn.svm import SVC\n",
        "from sklearn.preprocessing import StandardScaler, LabelEncoder\n",
        "from sklearn.metrics import confusion_matrix, roc_auc_score, roc_curve, brier_score_loss, auc\n",
        "from tensorflow.keras.models import Sequential\n",
        "from tensorflow.keras.layers import Dense, LSTM"
      ]
    },
    {
      "cell_type": "code",
      "source": [
        "!pip install gdown"
      ],
      "metadata": {
        "colab": {
          "base_uri": "https://localhost:8080/"
        },
        "id": "ifuenzVxADZB",
        "outputId": "a330164e-868c-4b6a-8599-63d8454fac7e"
      },
      "id": "ifuenzVxADZB",
      "execution_count": 17,
      "outputs": [
        {
          "output_type": "stream",
          "name": "stdout",
          "text": [
            "Requirement already satisfied: gdown in /usr/local/lib/python3.10/dist-packages (5.2.0)\n",
            "Requirement already satisfied: beautifulsoup4 in /usr/local/lib/python3.10/dist-packages (from gdown) (4.12.3)\n",
            "Requirement already satisfied: filelock in /usr/local/lib/python3.10/dist-packages (from gdown) (3.16.1)\n",
            "Requirement already satisfied: requests[socks] in /usr/local/lib/python3.10/dist-packages (from gdown) (2.32.3)\n",
            "Requirement already satisfied: tqdm in /usr/local/lib/python3.10/dist-packages (from gdown) (4.66.6)\n",
            "Requirement already satisfied: soupsieve>1.2 in /usr/local/lib/python3.10/dist-packages (from beautifulsoup4->gdown) (2.6)\n",
            "Requirement already satisfied: charset-normalizer<4,>=2 in /usr/local/lib/python3.10/dist-packages (from requests[socks]->gdown) (3.4.0)\n",
            "Requirement already satisfied: idna<4,>=2.5 in /usr/local/lib/python3.10/dist-packages (from requests[socks]->gdown) (3.10)\n",
            "Requirement already satisfied: urllib3<3,>=1.21.1 in /usr/local/lib/python3.10/dist-packages (from requests[socks]->gdown) (2.2.3)\n",
            "Requirement already satisfied: certifi>=2017.4.17 in /usr/local/lib/python3.10/dist-packages (from requests[socks]->gdown) (2024.8.30)\n",
            "Requirement already satisfied: PySocks!=1.5.7,>=1.5.6 in /usr/local/lib/python3.10/dist-packages (from requests[socks]->gdown) (1.7.1)\n"
          ]
        }
      ]
    },
    {
      "cell_type": "code",
      "execution_count": 18,
      "id": "dd8f2e4b-f946-4604-9e90-6f1d63865b21",
      "metadata": {
        "id": "dd8f2e4b-f946-4604-9e90-6f1d63865b21"
      },
      "outputs": [],
      "source": [
        "def load_and_preprocess_data(url):\n",
        "    !gdown https://drive.google.com/uc?id={url} -O \"url.csv\"\n",
        "    data = pd.read_csv(\"url.csv\")\n",
        "\n",
        "    # Print the column names to check for any discrepancies\n",
        "    print(\"Columns in the dataset:\", data.columns)\n",
        "\n",
        "    # Select relevant columns for the new dataset\n",
        "    selected_columns = ['GENDER', 'AGE', 'SMOKING', 'YELLOW_FINGERS', 'ANXIETY',\n",
        "                        'PEER_PRESSURE', 'CHRONIC DISEASE', 'FATIGUE ', 'ALLERGY ',\n",
        "                        'WHEEZING', 'ALCOHOL CONSUMING', 'COUGHING', 'SHORTNESS OF BREATH',\n",
        "                        'SWALLOWING DIFFICULTY', 'CHEST PAIN', 'LUNG_CANCER']\n",
        "\n",
        "    # Ensure that all selected columns exist in the dataset\n",
        "    missing_columns = [col for col in selected_columns if col not in data.columns]\n",
        "    if missing_columns:\n",
        "        print(f\"Warning: The following columns are missing: {missing_columns}\")\n",
        "        # Optionally, remove missing columns from the selected_columns list\n",
        "        selected_columns = [col for col in selected_columns if col in data.columns]\n",
        "\n",
        "    data = data[selected_columns]\n",
        "\n",
        "    # Map target 'LUNG_CANCER' to binary (Yes = 1, No = 0)\n",
        "    data['LUNG_CANCER'] = data['LUNG_CANCER'].map({'YES': 1, 'NO': 0})\n",
        "\n",
        "    # Encode categorical columns (e.g., 'GENDER', 'SMOKING', etc.)\n",
        "    label_encoder = LabelEncoder()\n",
        "    categorical_columns = ['GENDER', 'SMOKING', 'YELLOW_FINGERS', 'ANXIETY', 'PEER_PRESSURE',\n",
        "                           'CHRONIC DISEASE', 'FATIGUE ', 'ALLERGY ', 'WHEEZING', 'ALCOHOL CONSUMING',\n",
        "                           'COUGHING', 'SHORTNESS OF BREATH', 'SWALLOWING DIFFICULTY', 'CHEST PAIN']\n",
        "\n",
        "    for column in categorical_columns:\n",
        "        data[column] = label_encoder.fit_transform(data[column])\n",
        "\n",
        "    return data"
      ]
    },
    {
      "cell_type": "code",
      "execution_count": 19,
      "id": "2e89fbe9-bdce-4ad8-89e1-9a683f72cebf",
      "metadata": {
        "id": "2e89fbe9-bdce-4ad8-89e1-9a683f72cebf"
      },
      "outputs": [],
      "source": [
        "def calculate_metrics(conf_matrix, y_true=None, y_prob=None):\n",
        "    \"\"\"Calculate evaluation metrics.\"\"\"\n",
        "    TP, TN, FP, FN = conf_matrix[1, 1], conf_matrix[0, 0], conf_matrix[0, 1], conf_matrix[1, 0]\n",
        "    sensitivity = TP / (TP + FN)\n",
        "    specificity = TN / (TN + FP)\n",
        "    precision = TP / (TP + FP) if (TP + FP) else 0\n",
        "    recall = sensitivity\n",
        "    f1 = 2 * (precision * recall) / (precision + recall) if (precision + recall) else 0\n",
        "    accuracy = (TP + TN) / (TP + TN + FP + FN)\n",
        "    balanced_accuracy = (sensitivity + specificity) / 2\n",
        "    tss = sensitivity + specificity - 1\n",
        "    hss_num = 2 * (TP * TN - FP * FN)\n",
        "    hss_denom = (TP + FN) * (FP + TN) + (TP + FP) * (FN + TN)\n",
        "    hss = hss_num / hss_denom if hss_denom else 0\n",
        "    bs = np.mean((y_true - y_prob) ** 2) if y_true is not None and y_prob is not None else None\n",
        "    bss_denom = np.mean((y_true - np.mean(y_true)) ** 2) if y_true is not None else None\n",
        "    bss = 1 - (bs / bss_denom) if bs is not None and bss_denom else None\n",
        "    return {\n",
        "        'Sensitivity': sensitivity, 'Specificity': specificity, 'Accuracy': accuracy,\n",
        "        'Precision': precision, 'Recall': recall, 'F1 Score': f1,\n",
        "        'Balanced Accuracy': balanced_accuracy, 'TSS': tss, 'HSS': hss,\n",
        "        'Brier Score': bs, 'Brier Skill Score': bss\n",
        "    }"
      ]
    },
    {
      "cell_type": "code",
      "execution_count": 20,
      "id": "ad3d8c66-cf06-45e0-8e88-ea5bef19f4cf",
      "metadata": {
        "id": "ad3d8c66-cf06-45e0-8e88-ea5bef19f4cf"
      },
      "outputs": [],
      "source": [
        "def train_model(model, X_train, y_train, X_test, y_test):\n",
        "    \"\"\"Train and evaluate a model.\"\"\"\n",
        "    model.fit(X_train, y_train)\n",
        "    predictions = model.predict(X_test)\n",
        "    conf_matrix = confusion_matrix(y_test, predictions)\n",
        "    metrics = calculate_metrics(conf_matrix)\n",
        "    auc = roc_auc_score(y_test, predictions)\n",
        "    brier = brier_score_loss(y_test, predictions)\n",
        "    return metrics, auc, brier\n",
        "\n",
        "def build_lstm_model(input_shape):\n",
        "    \"\"\"Build an LSTM model.\"\"\"\n",
        "    model = Sequential([\n",
        "        LSTM(50, input_shape=input_shape),\n",
        "        Dense(1, activation='sigmoid')\n",
        "    ])\n",
        "    model.compile(optimizer='adam', loss='binary_crossentropy', metrics=['accuracy'])\n",
        "    return model"
      ]
    },
    {
      "cell_type": "code",
      "execution_count": 21,
      "id": "bfec7965-624f-48e9-803f-9104f7f02d6f",
      "metadata": {
        "colab": {
          "base_uri": "https://localhost:8080/"
        },
        "id": "bfec7965-624f-48e9-803f-9104f7f02d6f",
        "outputId": "2d8b4c05-8d0d-4c96-d3f7-ac739feae869"
      },
      "outputs": [
        {
          "output_type": "stream",
          "name": "stdout",
          "text": [
            "Downloading...\n",
            "From: https://drive.google.com/uc?id=1EbM9lKDB8f_PegVbKxsNmBaTzpRikksz\n",
            "To: /content/url.csv\n",
            "\r  0% 0.00/11.3k [00:00<?, ?B/s]\r100% 11.3k/11.3k [00:00<00:00, 21.6MB/s]\n",
            "Columns in the dataset: Index(['GENDER', 'AGE', 'SMOKING', 'YELLOW_FINGERS', 'ANXIETY',\n",
            "       'PEER_PRESSURE', 'CHRONIC DISEASE', 'FATIGUE ', 'ALLERGY ', 'WHEEZING',\n",
            "       'ALCOHOL CONSUMING', 'COUGHING', 'SHORTNESS OF BREATH',\n",
            "       'SWALLOWING DIFFICULTY', 'CHEST PAIN', 'LUNG_CANCER'],\n",
            "      dtype='object')\n"
          ]
        }
      ],
      "source": [
        "# Load and preprocess the dataset\n",
        "dataset_url = '1EbM9lKDB8f_PegVbKxsNmBaTzpRikksz'\n",
        "data = load_and_preprocess_data(dataset_url)\n",
        "\n",
        "# Separate features and target\n",
        "X, y = data.drop(columns=['LUNG_CANCER']), data['LUNG_CANCER']\n",
        "\n",
        "# Apply StandardScaler only to the numerical columns\n",
        "numerical_columns = X.select_dtypes(include=['int64', 'float64']).columns\n",
        "X[numerical_columns] = StandardScaler().fit_transform(X[numerical_columns])\n",
        "\n",
        "X_scaled = X.dropna()\n",
        "y = y.dropna()\n",
        "y = y.reset_index(drop=True)  # Reset index of y\n",
        "X_scaled = X_scaled.reset_index(drop=True)  # Reset index of X_scaled\n",
        "y = y.squeeze()  # Converts DataFrame to Series if y is a DataFrame\n",
        "X_scaled = X_scaled.to_numpy()  # Convert X_scaled to numpy array for proper slicing\n",
        "\n",
        "# Handling any mismatch between X and y\n",
        "if len(X_scaled) != len(y):\n",
        "    # Randomly sample data to make the lengths equal\n",
        "    diff = abs(len(X_scaled) - len(y))\n",
        "    random_indices = np.random.choice(len(X_scaled), diff)\n",
        "    X_scaled = np.concatenate([X_scaled, X_scaled[random_indices]], axis=0)\n",
        "    y = np.concatenate([y, y[random_indices]])\n",
        "\n",
        "# Check that X_scaled and y have the same number of samples\n",
        "assert len(y) == len(X_scaled), \"Mismatch in number of samples between X and y\""
      ]
    },
    {
      "cell_type": "code",
      "execution_count": 22,
      "id": "7e92c27f-6341-4ca5-ab4b-dab3258aebad",
      "metadata": {
        "colab": {
          "base_uri": "https://localhost:8080/",
          "height": 1000
        },
        "id": "7e92c27f-6341-4ca5-ab4b-dab3258aebad",
        "outputId": "d3bfce06-163b-42da-8d28-698f59c0ba99"
      },
      "outputs": [
        {
          "output_type": "stream",
          "name": "stdout",
          "text": [
            "\n",
            "Fold 1:\n",
            "Missing values in y_train: 0\n",
            "Missing values in y_test: 0\n",
            "Random Forest Confusion Matrix:\n",
            "[[ 0  0]\n",
            " [ 2 29]]\n",
            "Random Forest Metrics: {'Sensitivity': 0.9354838709677419, 'Specificity': nan, 'Accuracy': 0.9354838709677419, 'Precision': 1.0, 'Recall': 0.9354838709677419, 'F1 Score': 0.9666666666666666, 'Balanced Accuracy': nan, 'TSS': nan, 'HSS': 0.0, 'Brier Score': None, 'Brier Skill Score': None}\n",
            "SVM Confusion Matrix:\n",
            "[[ 0  0]\n",
            " [ 2 29]]\n",
            "SVM Metrics: {'Sensitivity': 0.9354838709677419, 'Specificity': nan, 'Accuracy': 0.9354838709677419, 'Precision': 1.0, 'Recall': 0.9354838709677419, 'F1 Score': 0.9666666666666666, 'Balanced Accuracy': nan, 'TSS': nan, 'HSS': 0.0, 'Brier Score': None, 'Brier Skill Score': None}\n"
          ]
        },
        {
          "output_type": "stream",
          "name": "stderr",
          "text": [
            "<ipython-input-19-cc1885cfba1b>:5: RuntimeWarning: invalid value encountered in scalar divide\n",
            "  specificity = TN / (TN + FP)\n",
            "<ipython-input-19-cc1885cfba1b>:5: RuntimeWarning: invalid value encountered in scalar divide\n",
            "  specificity = TN / (TN + FP)\n",
            "/usr/local/lib/python3.10/dist-packages/keras/src/layers/rnn/rnn.py:204: UserWarning: Do not pass an `input_shape`/`input_dim` argument to a layer. When using Sequential models, prefer using an `Input(shape)` object as the first layer in the model instead.\n",
            "  super().__init__(**kwargs)\n"
          ]
        },
        {
          "output_type": "stream",
          "name": "stdout",
          "text": [
            "\u001b[1m1/1\u001b[0m \u001b[32m━━━━━━━━━━━━━━━━━━━━\u001b[0m\u001b[37m\u001b[0m \u001b[1m0s\u001b[0m 221ms/step\n",
            "LSTM Confusion Matrix:\n",
            "[[ 0  0]\n",
            " [ 1 30]]\n",
            "LSTM Metrics: {'Sensitivity': 0.967741935483871, 'Specificity': nan, 'Accuracy': 0.967741935483871, 'Precision': 1.0, 'Recall': 0.967741935483871, 'F1 Score': 0.9836065573770492, 'Balanced Accuracy': nan, 'TSS': nan, 'HSS': 0.0, 'Brier Score': None, 'Brier Skill Score': None}\n",
            "\n",
            "Fold 2:\n",
            "Missing values in y_train: 0\n",
            "Missing values in y_test: 0\n"
          ]
        },
        {
          "output_type": "stream",
          "name": "stderr",
          "text": [
            "<ipython-input-19-cc1885cfba1b>:5: RuntimeWarning: invalid value encountered in scalar divide\n",
            "  specificity = TN / (TN + FP)\n"
          ]
        },
        {
          "output_type": "stream",
          "name": "stdout",
          "text": [
            "Random Forest Confusion Matrix:\n",
            "[[ 1  1]\n",
            " [ 0 29]]\n",
            "Random Forest Metrics: {'Sensitivity': 1.0, 'Specificity': 0.5, 'Accuracy': 0.967741935483871, 'Precision': 0.9666666666666667, 'Recall': 1.0, 'F1 Score': 0.983050847457627, 'Balanced Accuracy': 0.75, 'TSS': 0.5, 'HSS': 0.6590909090909091, 'Brier Score': None, 'Brier Skill Score': None}\n",
            "SVM Confusion Matrix:\n",
            "[[ 1  1]\n",
            " [ 0 29]]\n",
            "SVM Metrics: {'Sensitivity': 1.0, 'Specificity': 0.5, 'Accuracy': 0.967741935483871, 'Precision': 0.9666666666666667, 'Recall': 1.0, 'F1 Score': 0.983050847457627, 'Balanced Accuracy': 0.75, 'TSS': 0.5, 'HSS': 0.6590909090909091, 'Brier Score': None, 'Brier Skill Score': None}\n"
          ]
        },
        {
          "output_type": "stream",
          "name": "stderr",
          "text": [
            "/usr/local/lib/python3.10/dist-packages/keras/src/layers/rnn/rnn.py:204: UserWarning: Do not pass an `input_shape`/`input_dim` argument to a layer. When using Sequential models, prefer using an `Input(shape)` object as the first layer in the model instead.\n",
            "  super().__init__(**kwargs)\n"
          ]
        },
        {
          "output_type": "stream",
          "name": "stdout",
          "text": [
            "\u001b[1m1/1\u001b[0m \u001b[32m━━━━━━━━━━━━━━━━━━━━\u001b[0m\u001b[37m\u001b[0m \u001b[1m0s\u001b[0m 158ms/step\n",
            "LSTM Confusion Matrix:\n",
            "[[ 1  1]\n",
            " [ 0 29]]\n",
            "LSTM Metrics: {'Sensitivity': 1.0, 'Specificity': 0.5, 'Accuracy': 0.967741935483871, 'Precision': 0.9666666666666667, 'Recall': 1.0, 'F1 Score': 0.983050847457627, 'Balanced Accuracy': 0.75, 'TSS': 0.5, 'HSS': 0.6590909090909091, 'Brier Score': None, 'Brier Skill Score': None}\n",
            "\n",
            "Fold 3:\n",
            "Missing values in y_train: 0\n",
            "Missing values in y_test: 0\n",
            "Random Forest Confusion Matrix:\n",
            "[[ 5  0]\n",
            " [ 0 26]]\n",
            "Random Forest Metrics: {'Sensitivity': 1.0, 'Specificity': 1.0, 'Accuracy': 1.0, 'Precision': 1.0, 'Recall': 1.0, 'F1 Score': 1.0, 'Balanced Accuracy': 1.0, 'TSS': 1.0, 'HSS': 1.0, 'Brier Score': None, 'Brier Skill Score': None}\n",
            "SVM Confusion Matrix:\n",
            "[[ 3  2]\n",
            " [ 0 26]]\n",
            "SVM Metrics: {'Sensitivity': 1.0, 'Specificity': 0.6, 'Accuracy': 0.9354838709677419, 'Precision': 0.9285714285714286, 'Recall': 1.0, 'F1 Score': 0.962962962962963, 'Balanced Accuracy': 0.8, 'TSS': 0.6000000000000001, 'HSS': 0.7289719626168224, 'Brier Score': None, 'Brier Skill Score': None}\n"
          ]
        },
        {
          "output_type": "stream",
          "name": "stderr",
          "text": [
            "/usr/local/lib/python3.10/dist-packages/keras/src/layers/rnn/rnn.py:204: UserWarning: Do not pass an `input_shape`/`input_dim` argument to a layer. When using Sequential models, prefer using an `Input(shape)` object as the first layer in the model instead.\n",
            "  super().__init__(**kwargs)\n"
          ]
        },
        {
          "output_type": "stream",
          "name": "stdout",
          "text": [
            "\u001b[1m1/1\u001b[0m \u001b[32m━━━━━━━━━━━━━━━━━━━━\u001b[0m\u001b[37m\u001b[0m \u001b[1m0s\u001b[0m 158ms/step\n",
            "LSTM Confusion Matrix:\n",
            "[[ 5  0]\n",
            " [ 0 26]]\n",
            "LSTM Metrics: {'Sensitivity': 1.0, 'Specificity': 1.0, 'Accuracy': 1.0, 'Precision': 1.0, 'Recall': 1.0, 'F1 Score': 1.0, 'Balanced Accuracy': 1.0, 'TSS': 1.0, 'HSS': 1.0, 'Brier Score': None, 'Brier Skill Score': None}\n",
            "\n",
            "Fold 4:\n",
            "Missing values in y_train: 0\n",
            "Missing values in y_test: 0\n",
            "Random Forest Confusion Matrix:\n",
            "[[ 0  4]\n",
            " [ 1 26]]\n",
            "Random Forest Metrics: {'Sensitivity': 0.9629629629629629, 'Specificity': 0.0, 'Accuracy': 0.8387096774193549, 'Precision': 0.8666666666666667, 'Recall': 0.9629629629629629, 'F1 Score': 0.912280701754386, 'Balanced Accuracy': 0.48148148148148145, 'TSS': -0.03703703703703709, 'HSS': -0.057971014492753624, 'Brier Score': None, 'Brier Skill Score': None}\n",
            "SVM Confusion Matrix:\n",
            "[[ 1  3]\n",
            " [ 1 26]]\n",
            "SVM Metrics: {'Sensitivity': 0.9629629629629629, 'Specificity': 0.25, 'Accuracy': 0.8709677419354839, 'Precision': 0.896551724137931, 'Recall': 0.9629629629629629, 'F1 Score': 0.9285714285714286, 'Balanced Accuracy': 0.6064814814814814, 'TSS': 0.2129629629629628, 'HSS': 0.27710843373493976, 'Brier Score': None, 'Brier Skill Score': None}\n"
          ]
        },
        {
          "output_type": "stream",
          "name": "stderr",
          "text": [
            "/usr/local/lib/python3.10/dist-packages/keras/src/layers/rnn/rnn.py:204: UserWarning: Do not pass an `input_shape`/`input_dim` argument to a layer. When using Sequential models, prefer using an `Input(shape)` object as the first layer in the model instead.\n",
            "  super().__init__(**kwargs)\n"
          ]
        },
        {
          "output_type": "stream",
          "name": "stdout",
          "text": [
            "\u001b[1m1/1\u001b[0m \u001b[32m━━━━━━━━━━━━━━━━━━━━\u001b[0m\u001b[37m\u001b[0m \u001b[1m0s\u001b[0m 159ms/step\n",
            "LSTM Confusion Matrix:\n",
            "[[ 2  2]\n",
            " [ 0 27]]\n",
            "LSTM Metrics: {'Sensitivity': 1.0, 'Specificity': 0.5, 'Accuracy': 0.9354838709677419, 'Precision': 0.9310344827586207, 'Recall': 1.0, 'F1 Score': 0.9642857142857143, 'Balanced Accuracy': 0.75, 'TSS': 0.5, 'HSS': 0.6506024096385542, 'Brier Score': None, 'Brier Skill Score': None}\n",
            "\n",
            "Fold 5:\n",
            "Missing values in y_train: 0\n",
            "Missing values in y_test: 0\n",
            "Random Forest Confusion Matrix:\n",
            "[[ 1  2]\n",
            " [ 2 26]]\n",
            "Random Forest Metrics: {'Sensitivity': 0.9285714285714286, 'Specificity': 0.3333333333333333, 'Accuracy': 0.8709677419354839, 'Precision': 0.9285714285714286, 'Recall': 0.9285714285714286, 'F1 Score': 0.9285714285714286, 'Balanced Accuracy': 0.6309523809523809, 'TSS': 0.26190476190476186, 'HSS': 0.2619047619047619, 'Brier Score': None, 'Brier Skill Score': None}\n",
            "SVM Confusion Matrix:\n",
            "[[ 1  2]\n",
            " [ 2 26]]\n",
            "SVM Metrics: {'Sensitivity': 0.9285714285714286, 'Specificity': 0.3333333333333333, 'Accuracy': 0.8709677419354839, 'Precision': 0.9285714285714286, 'Recall': 0.9285714285714286, 'F1 Score': 0.9285714285714286, 'Balanced Accuracy': 0.6309523809523809, 'TSS': 0.26190476190476186, 'HSS': 0.2619047619047619, 'Brier Score': None, 'Brier Skill Score': None}\n"
          ]
        },
        {
          "output_type": "stream",
          "name": "stderr",
          "text": [
            "/usr/local/lib/python3.10/dist-packages/keras/src/layers/rnn/rnn.py:204: UserWarning: Do not pass an `input_shape`/`input_dim` argument to a layer. When using Sequential models, prefer using an `Input(shape)` object as the first layer in the model instead.\n",
            "  super().__init__(**kwargs)\n"
          ]
        },
        {
          "output_type": "stream",
          "name": "stdout",
          "text": [
            "\u001b[1m1/1\u001b[0m \u001b[32m━━━━━━━━━━━━━━━━━━━━\u001b[0m\u001b[37m\u001b[0m \u001b[1m0s\u001b[0m 277ms/step\n",
            "LSTM Confusion Matrix:\n",
            "[[ 1  2]\n",
            " [ 2 26]]\n",
            "LSTM Metrics: {'Sensitivity': 0.9285714285714286, 'Specificity': 0.3333333333333333, 'Accuracy': 0.8709677419354839, 'Precision': 0.9285714285714286, 'Recall': 0.9285714285714286, 'F1 Score': 0.9285714285714286, 'Balanced Accuracy': 0.6309523809523809, 'TSS': 0.26190476190476186, 'HSS': 0.2619047619047619, 'Brier Score': None, 'Brier Skill Score': None}\n",
            "\n",
            "Fold 6:\n",
            "Missing values in y_train: 0\n",
            "Missing values in y_test: 0\n",
            "Random Forest Confusion Matrix:\n",
            "[[ 3  1]\n",
            " [ 0 27]]\n",
            "Random Forest Metrics: {'Sensitivity': 1.0, 'Specificity': 0.75, 'Accuracy': 0.967741935483871, 'Precision': 0.9642857142857143, 'Recall': 1.0, 'F1 Score': 0.9818181818181818, 'Balanced Accuracy': 0.875, 'TSS': 0.75, 'HSS': 0.84375, 'Brier Score': None, 'Brier Skill Score': None}\n",
            "SVM Confusion Matrix:\n",
            "[[ 3  1]\n",
            " [ 0 27]]\n",
            "SVM Metrics: {'Sensitivity': 1.0, 'Specificity': 0.75, 'Accuracy': 0.967741935483871, 'Precision': 0.9642857142857143, 'Recall': 1.0, 'F1 Score': 0.9818181818181818, 'Balanced Accuracy': 0.875, 'TSS': 0.75, 'HSS': 0.84375, 'Brier Score': None, 'Brier Skill Score': None}\n"
          ]
        },
        {
          "output_type": "stream",
          "name": "stderr",
          "text": [
            "/usr/local/lib/python3.10/dist-packages/keras/src/layers/rnn/rnn.py:204: UserWarning: Do not pass an `input_shape`/`input_dim` argument to a layer. When using Sequential models, prefer using an `Input(shape)` object as the first layer in the model instead.\n",
            "  super().__init__(**kwargs)\n"
          ]
        },
        {
          "output_type": "stream",
          "name": "stdout",
          "text": [
            "\u001b[1m1/1\u001b[0m \u001b[32m━━━━━━━━━━━━━━━━━━━━\u001b[0m\u001b[37m\u001b[0m \u001b[1m0s\u001b[0m 152ms/step\n",
            "LSTM Confusion Matrix:\n",
            "[[ 2  2]\n",
            " [ 0 27]]\n",
            "LSTM Metrics: {'Sensitivity': 1.0, 'Specificity': 0.5, 'Accuracy': 0.9354838709677419, 'Precision': 0.9310344827586207, 'Recall': 1.0, 'F1 Score': 0.9642857142857143, 'Balanced Accuracy': 0.75, 'TSS': 0.5, 'HSS': 0.6506024096385542, 'Brier Score': None, 'Brier Skill Score': None}\n",
            "\n",
            "Fold 7:\n",
            "Missing values in y_train: 0\n",
            "Missing values in y_test: 0\n",
            "Random Forest Confusion Matrix:\n",
            "[[ 3  5]\n",
            " [ 0 23]]\n",
            "Random Forest Metrics: {'Sensitivity': 1.0, 'Specificity': 0.375, 'Accuracy': 0.8387096774193549, 'Precision': 0.8214285714285714, 'Recall': 1.0, 'F1 Score': 0.9019607843137255, 'Balanced Accuracy': 0.6875, 'TSS': 0.375, 'HSS': 0.5149253731343284, 'Brier Score': None, 'Brier Skill Score': None}\n",
            "SVM Confusion Matrix:\n",
            "[[ 3  5]\n",
            " [ 0 23]]\n",
            "SVM Metrics: {'Sensitivity': 1.0, 'Specificity': 0.375, 'Accuracy': 0.8387096774193549, 'Precision': 0.8214285714285714, 'Recall': 1.0, 'F1 Score': 0.9019607843137255, 'Balanced Accuracy': 0.6875, 'TSS': 0.375, 'HSS': 0.5149253731343284, 'Brier Score': None, 'Brier Skill Score': None}\n"
          ]
        },
        {
          "output_type": "stream",
          "name": "stderr",
          "text": [
            "/usr/local/lib/python3.10/dist-packages/keras/src/layers/rnn/rnn.py:204: UserWarning: Do not pass an `input_shape`/`input_dim` argument to a layer. When using Sequential models, prefer using an `Input(shape)` object as the first layer in the model instead.\n",
            "  super().__init__(**kwargs)\n"
          ]
        },
        {
          "output_type": "stream",
          "name": "stdout",
          "text": [
            "\u001b[1m1/1\u001b[0m \u001b[32m━━━━━━━━━━━━━━━━━━━━\u001b[0m\u001b[37m\u001b[0m \u001b[1m0s\u001b[0m 147ms/step\n",
            "LSTM Confusion Matrix:\n",
            "[[ 3  5]\n",
            " [ 0 23]]\n",
            "LSTM Metrics: {'Sensitivity': 1.0, 'Specificity': 0.375, 'Accuracy': 0.8387096774193549, 'Precision': 0.8214285714285714, 'Recall': 1.0, 'F1 Score': 0.9019607843137255, 'Balanced Accuracy': 0.6875, 'TSS': 0.375, 'HSS': 0.5149253731343284, 'Brier Score': None, 'Brier Skill Score': None}\n",
            "\n",
            "Fold 8:\n",
            "Missing values in y_train: 0\n",
            "Missing values in y_test: 0\n",
            "Random Forest Confusion Matrix:\n",
            "[[ 3  4]\n",
            " [ 0 24]]\n",
            "Random Forest Metrics: {'Sensitivity': 1.0, 'Specificity': 0.42857142857142855, 'Accuracy': 0.8709677419354839, 'Precision': 0.8571428571428571, 'Recall': 1.0, 'F1 Score': 0.923076923076923, 'Balanced Accuracy': 0.7142857142857143, 'TSS': 0.4285714285714286, 'HSS': 0.5714285714285714, 'Brier Score': None, 'Brier Skill Score': None}\n",
            "SVM Confusion Matrix:\n",
            "[[ 2  5]\n",
            " [ 0 24]]\n",
            "SVM Metrics: {'Sensitivity': 1.0, 'Specificity': 0.2857142857142857, 'Accuracy': 0.8387096774193549, 'Precision': 0.8275862068965517, 'Recall': 1.0, 'F1 Score': 0.9056603773584906, 'Balanced Accuracy': 0.6428571428571428, 'TSS': 0.2857142857142856, 'HSS': 0.4247787610619469, 'Brier Score': None, 'Brier Skill Score': None}\n"
          ]
        },
        {
          "output_type": "stream",
          "name": "stderr",
          "text": [
            "/usr/local/lib/python3.10/dist-packages/keras/src/layers/rnn/rnn.py:204: UserWarning: Do not pass an `input_shape`/`input_dim` argument to a layer. When using Sequential models, prefer using an `Input(shape)` object as the first layer in the model instead.\n",
            "  super().__init__(**kwargs)\n"
          ]
        },
        {
          "output_type": "stream",
          "name": "stdout",
          "text": [
            "\u001b[1m1/1\u001b[0m \u001b[32m━━━━━━━━━━━━━━━━━━━━\u001b[0m\u001b[37m\u001b[0m \u001b[1m0s\u001b[0m 145ms/step\n",
            "LSTM Confusion Matrix:\n",
            "[[ 4  3]\n",
            " [ 0 24]]\n",
            "LSTM Metrics: {'Sensitivity': 1.0, 'Specificity': 0.5714285714285714, 'Accuracy': 0.9032258064516129, 'Precision': 0.8888888888888888, 'Recall': 1.0, 'F1 Score': 0.9411764705882353, 'Balanced Accuracy': 0.7857142857142857, 'TSS': 0.5714285714285714, 'HSS': 0.6956521739130435, 'Brier Score': None, 'Brier Skill Score': None}\n",
            "\n",
            "Fold 9:\n",
            "Missing values in y_train: 0\n",
            "Missing values in y_test: 0\n",
            "Random Forest Confusion Matrix:\n",
            "[[ 3  2]\n",
            " [ 2 24]]\n",
            "Random Forest Metrics: {'Sensitivity': 0.9230769230769231, 'Specificity': 0.6, 'Accuracy': 0.8709677419354839, 'Precision': 0.9230769230769231, 'Recall': 0.9230769230769231, 'F1 Score': 0.9230769230769231, 'Balanced Accuracy': 0.7615384615384615, 'TSS': 0.523076923076923, 'HSS': 0.5230769230769231, 'Brier Score': None, 'Brier Skill Score': None}\n",
            "SVM Confusion Matrix:\n",
            "[[ 3  2]\n",
            " [ 2 24]]\n",
            "SVM Metrics: {'Sensitivity': 0.9230769230769231, 'Specificity': 0.6, 'Accuracy': 0.8709677419354839, 'Precision': 0.9230769230769231, 'Recall': 0.9230769230769231, 'F1 Score': 0.9230769230769231, 'Balanced Accuracy': 0.7615384615384615, 'TSS': 0.523076923076923, 'HSS': 0.5230769230769231, 'Brier Score': None, 'Brier Skill Score': None}\n"
          ]
        },
        {
          "output_type": "stream",
          "name": "stderr",
          "text": [
            "/usr/local/lib/python3.10/dist-packages/keras/src/layers/rnn/rnn.py:204: UserWarning: Do not pass an `input_shape`/`input_dim` argument to a layer. When using Sequential models, prefer using an `Input(shape)` object as the first layer in the model instead.\n",
            "  super().__init__(**kwargs)\n"
          ]
        },
        {
          "output_type": "stream",
          "name": "stdout",
          "text": [
            "\u001b[1m1/1\u001b[0m \u001b[32m━━━━━━━━━━━━━━━━━━━━\u001b[0m\u001b[37m\u001b[0m \u001b[1m0s\u001b[0m 157ms/step\n",
            "LSTM Confusion Matrix:\n",
            "[[ 2  3]\n",
            " [ 2 24]]\n",
            "LSTM Metrics: {'Sensitivity': 0.9230769230769231, 'Specificity': 0.4, 'Accuracy': 0.8387096774193549, 'Precision': 0.8888888888888888, 'Recall': 0.9230769230769231, 'F1 Score': 0.9056603773584906, 'Balanced Accuracy': 0.6615384615384616, 'TSS': 0.32307692307692326, 'HSS': 0.35294117647058826, 'Brier Score': None, 'Brier Skill Score': None}\n",
            "\n",
            "Fold 10:\n",
            "Missing values in y_train: 0\n",
            "Missing values in y_test: 0\n",
            "Random Forest Confusion Matrix:\n",
            "[[ 1  0]\n",
            " [ 2 27]]\n",
            "Random Forest Metrics: {'Sensitivity': 0.9310344827586207, 'Specificity': 1.0, 'Accuracy': 0.9333333333333333, 'Precision': 1.0, 'Recall': 0.9310344827586207, 'F1 Score': 0.9642857142857143, 'Balanced Accuracy': 0.9655172413793103, 'TSS': 0.9310344827586206, 'HSS': 0.4909090909090909, 'Brier Score': None, 'Brier Skill Score': None}\n",
            "SVM Confusion Matrix:\n",
            "[[ 1  0]\n",
            " [ 1 28]]\n",
            "SVM Metrics: {'Sensitivity': 0.9655172413793104, 'Specificity': 1.0, 'Accuracy': 0.9666666666666667, 'Precision': 1.0, 'Recall': 0.9655172413793104, 'F1 Score': 0.9824561403508771, 'Balanced Accuracy': 0.9827586206896552, 'TSS': 0.9655172413793105, 'HSS': 0.6588235294117647, 'Brier Score': None, 'Brier Skill Score': None}\n"
          ]
        },
        {
          "output_type": "stream",
          "name": "stderr",
          "text": [
            "/usr/local/lib/python3.10/dist-packages/keras/src/layers/rnn/rnn.py:204: UserWarning: Do not pass an `input_shape`/`input_dim` argument to a layer. When using Sequential models, prefer using an `Input(shape)` object as the first layer in the model instead.\n",
            "  super().__init__(**kwargs)\n"
          ]
        },
        {
          "output_type": "stream",
          "name": "stdout",
          "text": [
            "\u001b[1m1/1\u001b[0m \u001b[32m━━━━━━━━━━━━━━━━━━━━\u001b[0m\u001b[37m\u001b[0m \u001b[1m0s\u001b[0m 153ms/step\n",
            "LSTM Confusion Matrix:\n",
            "[[ 1  0]\n",
            " [ 1 28]]\n",
            "LSTM Metrics: {'Sensitivity': 0.9655172413793104, 'Specificity': 1.0, 'Accuracy': 0.9666666666666667, 'Precision': 1.0, 'Recall': 0.9655172413793104, 'F1 Score': 0.9824561403508771, 'Balanced Accuracy': 0.9827586206896552, 'TSS': 0.9655172413793105, 'HSS': 0.6588235294117647, 'Brier Score': None, 'Brier Skill Score': None}\n",
            "\n",
            "Average Metrics for Random Forest:\n",
            "Sensitivity          0.968113\n",
            "Specificity          0.554101\n",
            "Accuracy             0.909462\n",
            "Precision            0.932784\n",
            "Recall               0.968113\n",
            "F1 Score             0.948479\n",
            "Balanced Accuracy    0.762919\n",
            "TSS                  0.525839\n",
            "HSS                  0.480711\n",
            "Brier Score               NaN\n",
            "Brier Skill Score         NaN\n",
            "dtype: object\n",
            "\n",
            "Average Metrics for SVM:\n",
            "Sensitivity          0.971561\n",
            "Specificity          0.521561\n",
            "Accuracy             0.906344\n",
            "Precision            0.925674\n",
            "Recall               0.971561\n",
            "F1 Score              0.94648\n",
            "Balanced Accuracy    0.748565\n",
            "TSS                  0.497131\n",
            "HSS                  0.489243\n",
            "Brier Score               NaN\n",
            "Brier Skill Score         NaN\n",
            "dtype: object\n",
            "\n",
            "Average Metrics for LSTM:\n",
            "Sensitivity          0.978491\n",
            "Specificity          0.575529\n",
            "Accuracy             0.922473\n",
            "Precision            0.935651\n",
            "Recall               0.978491\n",
            "F1 Score             0.955505\n",
            "Balanced Accuracy    0.777607\n",
            "TSS                  0.555214\n",
            "HSS                  0.544454\n",
            "Brier Score               NaN\n",
            "Brier Skill Score         NaN\n",
            "dtype: object\n"
          ]
        },
        {
          "output_type": "display_data",
          "data": {
            "text/plain": [
              "<Figure size 1200x600 with 1 Axes>"
            ],
            "image/png": "[encoded data removed]"
          },
          "metadata": {}
        }
      ],
      "source": [
        "# Initialize KFold cross-validation\n",
        "kf = KFold(n_splits=10, shuffle=True, random_state=42)\n",
        "\n",
        "# Initialize lists to store metrics\n",
        "rf_metrics_list, svm_metrics_list, lstm_metrics_list = [], [], []\n",
        "rf_brier_score, svm_brier_score, lstm_brier_score = [], [], []\n",
        "\n",
        "# Cross-validation\n",
        "for fold, (train_index, test_index) in enumerate(kf.split(X_scaled), 1):\n",
        "    X_train, X_test = X_scaled[train_index], X_scaled[test_index]\n",
        "    y_train, y_test = y[train_index], y[test_index]\n",
        "\n",
        "    print(f\"\\nFold {fold}:\")\n",
        "\n",
        "    # Ensure target_classes are not empty\n",
        "    target_classes = y_train.dropna().unique()\n",
        "\n",
        "    # Fill NaN values in y_train and y_test with random values from the target classes\n",
        "    if target_classes.size == 0:\n",
        "        target_classes = [0]  # Replace with a default value\n",
        "    y_train = y_train.apply(lambda x: np.random.choice(target_classes) if pd.isnull(x) else x)\n",
        "    y_test = y_test.apply(lambda x: np.random.choice(target_classes) if pd.isnull(x) else x)\n",
        "\n",
        "    # Ensure no NaN values in the target columns\n",
        "    print(\"Missing values in y_train:\", y_train.isnull().sum())\n",
        "    print(\"Missing values in y_test:\", y_test.isnull().sum())\n",
        "\n",
        "    # Random Forest\n",
        "    rf_model = RandomForestClassifier(random_state=1)\n",
        "    rf_model.fit(X_train, y_train)\n",
        "    rf_pred = rf_model.predict(X_test)\n",
        "    rf_conf_matrix = confusion_matrix(y_test, rf_pred)\n",
        "    rf_metrics = calculate_metrics(rf_conf_matrix)\n",
        "    rf_metrics_list.append(rf_metrics)\n",
        "    rf_brier_score.append(brier_score_loss(y_test, rf_pred))\n",
        "    print(f\"Random Forest Confusion Matrix:\\n{rf_conf_matrix}\")\n",
        "    print(f\"Random Forest Metrics: {rf_metrics}\")\n",
        "\n",
        "    # SVM\n",
        "    svm_model = SVC(probability=True)\n",
        "    svm_model.fit(X_train, y_train)\n",
        "    svm_pred = svm_model.predict(X_test)\n",
        "    svm_conf_matrix = confusion_matrix(y_test, svm_pred)\n",
        "    svm_metrics = calculate_metrics(svm_conf_matrix)\n",
        "    svm_metrics_list.append(svm_metrics)\n",
        "    svm_brier_score.append(brier_score_loss(y_test, svm_pred))\n",
        "    print(f\"SVM Confusion Matrix:\\n{svm_conf_matrix}\")\n",
        "    print(f\"SVM Metrics: {svm_metrics}\")\n",
        "\n",
        "    # LSTM\n",
        "    lstm_model = build_lstm_model((X_train.shape[1], 1))\n",
        "    X_train_lstm = X_train.reshape(X_train.shape[0], X_train.shape[1], 1)\n",
        "    X_test_lstm = X_test.reshape(X_test.shape[0], X_test.shape[1], 1)\n",
        "    lstm_model.fit(X_train_lstm, y_train, epochs=10, batch_size=32, verbose=0)\n",
        "    lstm_pred = (lstm_model.predict(X_test_lstm) > 0.5).astype(int)\n",
        "    lstm_conf_matrix = confusion_matrix(y_test, lstm_pred)\n",
        "    lstm_metrics = calculate_metrics(lstm_conf_matrix)\n",
        "    lstm_metrics_list.append(lstm_metrics)\n",
        "    lstm_brier_score.append(brier_score_loss(y_test, lstm_pred))\n",
        "    print(f\"LSTM Confusion Matrix:\\n{lstm_conf_matrix}\")\n",
        "    print(f\"LSTM Metrics: {lstm_metrics}\")\n",
        "\n",
        "# Convert lists to DataFrame for better presentation\n",
        "rf_metrics_df = pd.DataFrame(rf_metrics_list)\n",
        "svm_metrics_df = pd.DataFrame(svm_metrics_list)\n",
        "lstm_metrics_df = pd.DataFrame(lstm_metrics_list)\n",
        "\n",
        "# Calculate average metrics for each model\n",
        "print(\"\\nAverage Metrics for Random Forest:\")\n",
        "print(rf_metrics_df.mean())\n",
        "print(\"\\nAverage Metrics for SVM:\")\n",
        "print(svm_metrics_df.mean())\n",
        "print(\"\\nAverage Metrics for LSTM:\")\n",
        "print(lstm_metrics_df.mean())\n",
        "\n",
        "# Visualize the results\n",
        "plt.figure(figsize=(12, 6))\n",
        "plt.subplot(1, 2, 1)\n",
        "sns.boxplot(data=[rf_brier_score, svm_brier_score, lstm_brier_score],\n",
        "            ax=plt.gca(), palette='Set2')\n",
        "plt.xticks([0, 1, 2], ['Random Forest', 'SVM', 'LSTM'])\n",
        "plt.title('Brier Scores')\n",
        "plt.tight_layout()\n",
        "plt.show()"
      ]
    },
    {
      "cell_type": "code",
      "execution_count": 24,
      "id": "6e24c825-c3b4-4dd0-a053-d052a5c415b2",
      "metadata": {
        "colab": {
          "base_uri": "https://localhost:8080/",
          "height": 998
        },
        "id": "6e24c825-c3b4-4dd0-a053-d052a5c415b2",
        "outputId": "630c55a9-f272-4423-ffc2-11479d0194f8"
      },
      "outputs": [
        {
          "output_type": "stream",
          "name": "stdout",
          "text": [
            "Comparison of average metrics:\n",
            "                  Random Forest       SVM      LSTM\n",
            "Sensitivity            0.968113  0.971561  0.978491\n",
            "Specificity            0.554101  0.521561  0.575529\n",
            "Accuracy               0.909462  0.906344  0.922473\n",
            "Precision              0.932784  0.925674  0.935651\n",
            "Recall                 0.968113  0.971561  0.978491\n",
            "F1 Score               0.948479   0.94648  0.955505\n",
            "Balanced Accuracy      0.762919  0.748565  0.777607\n",
            "TSS                    0.525839  0.497131  0.555214\n",
            "HSS                    0.480711  0.489243  0.544454\n",
            "Brier Score                 NaN       NaN       NaN\n",
            "Brier Skill Score           NaN       NaN       NaN\n",
            "\n",
            "True Positive Rate (TPR) and False Positive Rate (FPR):\n",
            "Random Forest - TPR: [0.         0.93103448 1.        ]\n",
            "Random Forest - FPR: [0. 0. 1.]\n",
            "SVM - TPR: [0.         0.96551724 1.        ]\n",
            "SVM - FPR: [0. 0. 1.]\n",
            "LSTM - TPR: [0.         0.96551724 1.        ]\n",
            "LSTM - FPR: [0. 0. 1.]\n"
          ]
        },
        {
          "output_type": "display_data",
          "data": {
            "text/plain": [
              "<Figure size 1000x600 with 1 Axes>"
            ],
            "image/png": "[encoded data removed]"
          },
          "metadata": {}
        },
        {
          "output_type": "stream",
          "name": "stdout",
          "text": [
            "\n",
            "Average Brier Score - Random Forest: 0.0905\n",
            "Average Brier Score - SVM: 0.0937\n",
            "Average Brier Score - LSTM: 0.0775\n"
          ]
        }
      ],
      "source": [
        "# Convert the list of dictionaries into a DataFrame for each model\n",
        "rf_metrics_df = pd.DataFrame(rf_metrics_list)\n",
        "svm_metrics_df = pd.DataFrame(svm_metrics_list)\n",
        "lstm_metrics_df = pd.DataFrame(lstm_metrics_list)\n",
        "\n",
        "# Calculate average metrics for each model\n",
        "rf_avg_metrics = rf_metrics_df.mean()\n",
        "svm_avg_metrics = svm_metrics_df.mean()\n",
        "lstm_avg_metrics = lstm_metrics_df.mean()\n",
        "\n",
        "# Create a comparison DataFrame\n",
        "comparison_df = pd.DataFrame({\n",
        "    'Random Forest': rf_avg_metrics,\n",
        "    'SVM': svm_avg_metrics,\n",
        "    'LSTM': lstm_avg_metrics\n",
        "})\n",
        "\n",
        "# Display the comparison table\n",
        "print(\"Comparison of average metrics:\")\n",
        "print(comparison_df)\n",
        "\n",
        "# ROC and AUC\n",
        "plt.figure(figsize=(10, 6))\n",
        "\n",
        "# Compute ROC curves for each model (using predicted probabilities for each model)\n",
        "fpr_rf, tpr_rf, _ = roc_curve(y_test, rf_pred)\n",
        "fpr_svm, tpr_svm, _ = roc_curve(y_test, svm_pred)\n",
        "fpr_lstm, tpr_lstm, _ = roc_curve(y_test, lstm_pred)\n",
        "\n",
        "# Calculate AUC\n",
        "rf_roc_auc = auc(fpr_rf, tpr_rf)\n",
        "svm_roc_auc = auc(fpr_svm, tpr_svm)\n",
        "lstm_roc_auc = auc(fpr_lstm, tpr_lstm)\n",
        "\n",
        "# Print TPR and FPR for each model\n",
        "print(\"\\nTrue Positive Rate (TPR) and False Positive Rate (FPR):\")\n",
        "print(f\"Random Forest - TPR: {tpr_rf}\")\n",
        "print(f\"Random Forest - FPR: {fpr_rf}\")\n",
        "print(f\"SVM - TPR: {tpr_svm}\")\n",
        "print(f\"SVM - FPR: {fpr_svm}\")\n",
        "print(f\"LSTM - TPR: {tpr_lstm}\")\n",
        "print(f\"LSTM - FPR: {fpr_lstm}\")\n",
        "\n",
        "# Plot ROC curves\n",
        "plt.plot(fpr_rf, tpr_rf, label=f'Random Forest (AUC = {np.mean(rf_roc_auc):.2f})', color='blue')\n",
        "plt.plot(fpr_svm, tpr_svm, label=f'SVM (AUC = {np.mean(svm_roc_auc):.2f})', color='green')\n",
        "plt.plot(fpr_lstm, tpr_lstm, label=f'LSTM (AUC = {np.mean(lstm_roc_auc):.2f})', color='red')\n",
        "plt.plot([0, 1], [0, 1], linestyle='--', label='Random (AUC = 0.5)', color='gray')\n",
        "plt.xlabel('False Positive Rate')\n",
        "plt.ylabel('True Positive Rate')\n",
        "plt.title('ROC Curve Comparison')\n",
        "plt.legend(loc='lower right')\n",
        "plt.show()\n",
        "\n",
        "# Display Brier Scores\n",
        "print(f\"\\nAverage Brier Score - Random Forest: {np.mean(rf_brier_score):.4f}\")\n",
        "print(f\"Average Brier Score - SVM: {np.mean(svm_brier_score):.4f}\")\n",
        "print(f\"Average Brier Score - LSTM: {np.mean(lstm_brier_score):.4f}\")"
      ]
    }
  ],
  "metadata": {
    "kernelspec": {
      "display_name": "Python 3 (ipykernel)",
      "language": "python",
      "name": "python3"
    },
    "language_info": {
      "codemirror_mode": {
        "name": "ipython",
        "version": 3
      },
      "file_extension": ".py",
      "mimetype": "text/x-python",
      "name": "python",
      "nbconvert_exporter": "python",
      "pygments_lexer": "ipython3",
      "version": "3.11.7"
    },
    "colab": {
      "provenance": []
    }
  },
  "nbformat": 4,
  "nbformat_minor": 5
}